{
  "nbformat": 4,
  "nbformat_minor": 0,
  "metadata": {
    "colab": {
      "name": "webcrawler_exercise.ipynb",
      "provenance": [],
      "collapsed_sections": [],
      "toc_visible": true,
      "authorship_tag": "ABX9TyPu4SYFoSkpPRVciFKwDJfS",
      "include_colab_link": true
    },
    "kernelspec": {
      "name": "python3",
      "display_name": "Python 3"
    },
    "language_info": {
      "name": "python"
    }
  },
  "cells": [
    {
      "cell_type": "markdown",
      "metadata": {
        "id": "view-in-github",
        "colab_type": "text"
      },
      "source": [
        "<a href=\"https://colab.research.google.com/github/taylor-kang/-temp-taylor-kang.github.io/blob/master/webcrawler_exercise.ipynb\" target=\"_parent\"><img src=\"https://colab.research.google.com/assets/colab-badge.svg\" alt=\"Open In Colab\"/></a>"
      ]
    },
    {
      "cell_type": "markdown",
      "metadata": {
        "id": "m2SIsmWuRggP"
      },
      "source": [
        "# **Python BeautifulSoup 패키지를 이용한 웹 크롤링 실습**\n",
        "### 복자여자고등학교 특강\n",
        "- 강사: 강태희\n",
        "- 일자: 21.10.15"
      ]
    },
    {
      "cell_type": "markdown",
      "metadata": {
        "id": "734TRfp-SNmg"
      },
      "source": [
        "# 0. 패키지 설치"
      ]
    },
    {
      "cell_type": "code",
      "metadata": {
        "colab": {
          "base_uri": "https://localhost:8080/"
        },
        "id": "FpxgdHKaWVII",
        "outputId": "6c125a89-dbfe-4165-c3ed-9ee0f581b955"
      },
      "source": [
        "pip install requests bs4"
      ],
      "execution_count": null,
      "outputs": [
        {
          "output_type": "stream",
          "name": "stdout",
          "text": [
            "Requirement already satisfied: requests in /usr/local/lib/python3.7/dist-packages (2.23.0)\n",
            "Requirement already satisfied: bs4 in /usr/local/lib/python3.7/dist-packages (0.0.1)\n",
            "Requirement already satisfied: idna<3,>=2.5 in /usr/local/lib/python3.7/dist-packages (from requests) (2.10)\n",
            "Requirement already satisfied: chardet<4,>=3.0.2 in /usr/local/lib/python3.7/dist-packages (from requests) (3.0.4)\n",
            "Requirement already satisfied: urllib3!=1.25.0,!=1.25.1,<1.26,>=1.21.1 in /usr/local/lib/python3.7/dist-packages (from requests) (1.24.3)\n",
            "Requirement already satisfied: certifi>=2017.4.17 in /usr/local/lib/python3.7/dist-packages (from requests) (2021.5.30)\n",
            "Requirement already satisfied: beautifulsoup4 in /usr/local/lib/python3.7/dist-packages (from bs4) (4.6.3)\n"
          ]
        }
      ]
    },
    {
      "cell_type": "code",
      "metadata": {
        "id": "vFvavhSRWWVL"
      },
      "source": [
        "from bs4 import BeautifulSoup\n",
        "import urllib.request"
      ],
      "execution_count": null,
      "outputs": []
    },
    {
      "cell_type": "markdown",
      "metadata": {
        "id": "fCvuWPbYSSFQ"
      },
      "source": [
        "# 실습 1. 오늘의 날씨 요약"
      ]
    },
    {
      "cell_type": "code",
      "metadata": {
        "id": "xWcNBQ9dWf2C"
      },
      "source": [
        "webpage = urllib.request.urlopen('https://search.naver.com/search.naver?where=nexearch&sm=top_hty&fbm=1&ie=utf8&query=%EC%84%9C%EC%9A%B8+%EB%82%A0%EC%94%A8')\n",
        "soup = BeautifulSoup(webpage, 'html.parser')\n",
        "seoul_temperature = soup.find('div',\"temperature_text\")"
      ],
      "execution_count": null,
      "outputs": []
    },
    {
      "cell_type": "code",
      "metadata": {
        "id": "maNweLFmXjCW"
      },
      "source": [
        "webpage = urllib.request.urlopen('https://search.naver.com/search.naver?where=nexearch&sm=top_hty&fbm=1&ie=utf8&query=%EB%8C%80%EC%A0%84+%EB%82%A0%EC%94%A8')\n",
        "soup = BeautifulSoup(webpage, 'html.parser')\n",
        "daejeon_temperature = soup.find('div',\"temperature_text\")"
      ],
      "execution_count": null,
      "outputs": []
    },
    {
      "cell_type": "code",
      "metadata": {
        "id": "_jgjfkXLXxVD"
      },
      "source": [
        "webpage = urllib.request.urlopen('https://search.naver.com/search.naver?where=nexearch&sm=top_hty&fbm=1&ie=utf8&query=%EB%B6%80%EC%82%B0+%EB%82%A0%EC%94%A8')\n",
        "soup = BeautifulSoup(webpage, 'html.parser')\n",
        "busan_temperature = soup.find('div',\"temperature_text\")"
      ],
      "execution_count": null,
      "outputs": []
    },
    {
      "cell_type": "code",
      "metadata": {
        "colab": {
          "base_uri": "https://localhost:8080/"
        },
        "id": "sFCxfw9cZViX",
        "outputId": "3858b7e1-1bb9-4ae6-f065-7dd614650025"
      },
      "source": [
        "print('오늘의 주요 정보를 요약해 드리겠습니다.\\n')\n",
        "print('- 서울 날씨 : ' , seoul_temperature.get_text())\n",
        "print('- 대전 날씨 : ' , daejeon_temperature.get_text())\n",
        "print('- 부산 날씨 : ' , busan_temperature.get_text())"
      ],
      "execution_count": null,
      "outputs": [
        {
          "output_type": "stream",
          "name": "stdout",
          "text": [
            "오늘의 주요 정보를 요약해 드리겠습니다.\n",
            "\n",
            "- 서울 날씨 :   현재 온도13° \n",
            "- 대전 날씨 :   현재 온도14° \n",
            "- 부산 날씨 :   현재 온도23° \n"
          ]
        }
      ]
    },
    {
      "cell_type": "markdown",
      "metadata": {
        "id": "qs15eSLhSeSI"
      },
      "source": [
        "# 실습 2. 오늘의 코로나19 현황"
      ]
    },
    {
      "cell_type": "code",
      "metadata": {
        "colab": {
          "base_uri": "https://localhost:8080/"
        },
        "id": "4W3RD4I8ZY7x",
        "outputId": "a1fda6fd-c7b6-42c8-cc85-951558205b57"
      },
      "source": [
        "webpage = urllib.request.urlopen('http://ncov.mohw.go.kr/')\n",
        "soup = BeautifulSoup(webpage, 'html.parser')\n",
        "ul = soup.find('ul',\"liveNum\")\n",
        "li_list = ul.select('li')\n",
        "\n",
        "print(li_list)\n"
      ],
      "execution_count": null,
      "outputs": [
        {
          "output_type": "stream",
          "name": "stdout",
          "text": [
            "[<li>\n",
            "<strong class=\"tit\">확진환자</strong>\n",
            "<span class=\"num\"><span class=\"mini\">(누적)</span>331,519</span>\n",
            "<span class=\"before\">전일대비 (+ 1594)</span>\n",
            "</li>, <li>\n",
            "<em class=\"sign\">=</em>\n",
            "<strong class=\"tit\">격리해제</strong>\n",
            "<span class=\"num\">296,708</span>\n",
            "<span class=\"before\">(+ 1779)</span>\n",
            "</li>, <li>\n",
            "<em class=\"sign\">+</em>\n",
            "<strong class=\"tit\">치료 중<br/><span class=\"mini_tit\">(격리 중)</span></strong>\n",
            "<span class=\"num\">32,236</span>\n",
            "<span class=\"before\">(- 200)</span>\n",
            "<a class=\"help\" href=\"#\" id=\"liveNum_help\">?<span class=\"hdn\">툴팁보기</span></a>\n",
            "</li>, <li>\n",
            "<em class=\"sign\">+</em>\n",
            "<strong class=\"tit\">사망</strong>\n",
            "<span class=\"num\">2,575</span>\n",
            "<span class=\"before\">(+ 15)</span>\n",
            "</li>]\n"
          ]
        }
      ]
    },
    {
      "cell_type": "code",
      "metadata": {
        "id": "6E6CpNbYZYAF",
        "colab": {
          "base_uri": "https://localhost:8080/"
        },
        "outputId": "daf3c1ff-728a-4a9a-9b97-474df6b895c9"
      },
      "source": [
        "print('오늘의 국내 코로나19 현황 \\n')\n",
        "\n",
        "for li in li_list:\n",
        "  title = li.find('strong', 'tit').get_text()\n",
        "  num = li.find('span', 'num').get_text()\n",
        "  print('- ' + title + ': ' + num + '명 \\n')"
      ],
      "execution_count": null,
      "outputs": [
        {
          "output_type": "stream",
          "name": "stdout",
          "text": [
            "오늘의 국내 코로나19 현황 \n",
            "\n",
            "- 확진환자: (누적)331,519명 \n",
            "\n",
            "- 격리해제: 296,708명 \n",
            "\n",
            "- 치료 중(격리 중): 32,236명 \n",
            "\n",
            "- 사망: 2,575명 \n",
            "\n"
          ]
        }
      ]
    },
    {
      "cell_type": "markdown",
      "metadata": {
        "id": "gYotNxWKSoeN"
      },
      "source": [
        "# 실습 3. 뉴스 실시간 헤드라인"
      ]
    },
    {
      "cell_type": "code",
      "metadata": {
        "colab": {
          "base_uri": "https://localhost:8080/"
        },
        "id": "P2ZvvpD3iKkf",
        "outputId": "f38fc25f-8e51-4050-c611-0d860a13cef6"
      },
      "source": [
        "webpage = urllib.request.urlopen('https://news.naver.com/main/home.naver')\n",
        "soup = BeautifulSoup(webpage, 'html.parser')\n",
        "ul = soup.find('ul',\"hdline_article_list\")\n",
        "li_list = ul.select('li')\n",
        "\n",
        "print('헤드라인 뉴스 \\n')\n",
        "for li in li_list:\n",
        "  title = li.select_one('div > a').get_text()\n",
        "  print('- ' + title + '\\n')\n",
        "\n",
        "print('헤드라인 뉴스 (깔끔 ver.) \\n')\n",
        "for li in li_list:\n",
        "  title = li.select_one('div > a').get_text()\n",
        "  print('- ' + title.strip() + '\\n')\n"
      ],
      "execution_count": null,
      "outputs": [
        {
          "output_type": "stream",
          "name": "stdout",
          "text": [
            "헤드라인 뉴스 \n",
            "\n",
            "- \n",
            "                                        녹취록은 로비 정황? 혹은 허풍?… 檢, 김만배 11일 조사\n",
            "                                    \n",
            "\n",
            "- \n",
            "                                        '2021 제네시스 챔피언십' 성료…이재경 선수 우승\n",
            "                                    \n",
            "\n",
            "- \n",
            "                                        이낙연 캠프 사실상 '경선 불복'…\"무효표 처리 이의제기\"\n",
            "                                    \n",
            "\n",
            "- \n",
            "                                        삼성·SK, 해외서 수천억 디지털세\n",
            "                                    \n",
            "\n",
            "- \n",
            "                                        일상회복지원위원회 13일 출범…‘위드 코로나’ 본격 논의\n",
            "                                    \n",
            "\n",
            "헤드라인 뉴스 (깔끔 ver.) \n",
            "\n",
            "- 녹취록은 로비 정황? 혹은 허풍?… 檢, 김만배 11일 조사\n",
            "\n",
            "- '2021 제네시스 챔피언십' 성료…이재경 선수 우승\n",
            "\n",
            "- 이낙연 캠프 사실상 '경선 불복'…\"무효표 처리 이의제기\"\n",
            "\n",
            "- 삼성·SK, 해외서 수천억 디지털세\n",
            "\n",
            "- 일상회복지원위원회 13일 출범…‘위드 코로나’ 본격 논의\n",
            "\n"
          ]
        }
      ]
    },
    {
      "cell_type": "markdown",
      "metadata": {
        "id": "W7Grg5NfSvz1"
      },
      "source": [
        "# 도전과제 : 네이버 웹툰 월요일 인기순위 가져오기"
      ]
    },
    {
      "cell_type": "code",
      "metadata": {
        "colab": {
          "base_uri": "https://localhost:8080/"
        },
        "id": "qQP08L7Dx2iA",
        "outputId": "5a1ac635-4982-400a-ec57-150f1093cb7a"
      },
      "source": [
        "webpage = urllib.request.urlopen('https://comic.naver.com/webtoon/weekday')\n",
        "soup = BeautifulSoup(webpage, 'html.parser')\n",
        "div = soup.select_one('div.daily_all')\n",
        "ul_list = div.select('ul')\n",
        "monday_ul = ul_list[0]\n",
        "cartoon_list = monday_ul.select('li')\n",
        "\n",
        "print('월요 웹툰 순위 \\n')\n",
        "for li in cartoon_list:\n",
        "  title = li.select_one('a.title').get_text()\n",
        "  print('- ' + title + '\\n')\n",
        "\n"
      ],
      "execution_count": null,
      "outputs": [
        {
          "output_type": "stream",
          "name": "stdout",
          "text": [
            "월요 웹툰 순위 \n",
            "\n",
            "- 참교육\n",
            "\n",
            "- 신의 탑\n",
            "\n",
            "- 뷰티풀 군바리\n",
            "\n",
            "- 소녀의 세계\n",
            "\n",
            "- 팔이피플\n",
            "\n",
            "- 백수세끼\n",
            "\n",
            "- 장씨세가 호위무사\n",
            "\n",
            "- 파이게임\n",
            "\n",
            "- 앵무살수\n",
            "\n",
            "- 만렙돌파\n",
            "\n",
            "- 말박왕\n",
            "\n",
            "- 삼매경\n",
            "\n",
            "- 요리GO\n",
            "\n",
            "- 홍천기\n",
            "\n",
            "- 잔불의 기사\n",
            "\n",
            "- 더블클릭\n",
            "\n",
            "- 유일무이 로맨스\n",
            "\n",
            "- 히어로메이커\n",
            "\n",
            "- 똑 닮은 딸\n",
            "\n",
            "- 결혼생활 그림일기\n",
            "\n",
            "- 오늘의 순정망화\n",
            "\n",
            "- 물어보는 사이\n",
            "\n",
            "- 바퀴\n",
            "\n",
            "- 꼬리잡기\n",
            "\n",
            "- 아는 여자애\n",
            "\n",
            "- 평범한 8반\n",
            "\n",
            "- 오빠집이 비어서\n",
            "\n",
            "- 꿈의 기업\n",
            "\n",
            "- 이제야 연애\n",
            "\n",
            "- 장난감\n",
            "\n",
            "- 수영만화일기\n",
            "\n",
            "- 황제와의 하룻밤\n",
            "\n",
            "- 아, 쫌 참으세요 영주님!\n",
            "\n",
            "- 순정말고 순종\n",
            "\n",
            "- 영앤리치가 아니야!\n",
            "\n",
            "- 최후의 금빛아이\n",
            "\n",
            "- 와이키키 뱀파이어\n",
            "\n",
            "- 하루의 하루\n",
            "\n",
            "- 야생천사 보호구역\n",
            "\n",
            "- 모스크바의 여명\n",
            "\n",
            "- 착한건 돈이된다\n",
            "\n",
            "- 사랑의 헌옷수거함\n",
            "\n",
            "- 선배, 그 립스틱 바르지 마요\n",
            "\n",
            "- 또다시, 계약 부부\n",
            "\n",
            "- 왕따협상\n",
            "\n",
            "- 원하는 건 너 하나\n",
            "\n",
            "- 이중첩자\n",
            "\n",
            "- 라서드\n",
            "\n",
            "- 백호랑\n",
            "\n",
            "- 마지막 지수\n",
            "\n",
            "- 칼가는 소녀\n",
            "\n",
            "- 드로잉 레시피\n",
            "\n",
            "- 바로 보지 않는\n",
            "\n",
            "- 살아간다\n",
            "\n",
            "- 이탄국의 자청비\n",
            "\n",
            "- 그림자 신부\n",
            "\n",
            "- 모락모락 왕세자님\n",
            "\n",
            "- 사막에 핀 달\n",
            "\n",
            "- 트리거\n",
            "\n",
            "- 개밥 먹는 남자\n",
            "\n",
            "- 중독연구소\n",
            "\n",
            "- 보살님이 캐리해!\n",
            "\n",
            "- 오로지 오로라\n",
            "\n",
            "- 기사님을 지켜줘\n",
            "\n",
            "- 헬로맨스\n",
            "\n"
          ]
        }
      ]
    },
    {
      "cell_type": "code",
      "metadata": {
        "colab": {
          "base_uri": "https://localhost:8080/"
        },
        "id": "7k5yV__Jj9vq",
        "outputId": "486ffc9d-046c-4b50-cc12-63ee8f8a4ce8"
      },
      "source": [
        "webpage = urllib.request.urlopen('https://comic.naver.com/webtoon/weekday')\n",
        "soup = BeautifulSoup(webpage, 'html.parser')\n",
        "div = soup.select_one('div.daily_all')\n",
        "ul_list = div.select('ul')\n",
        "monday_ul = ul_list[0]\n",
        "cartoon_list = monday_ul.select('li')\n",
        "\n",
        "print('월요 웹툰 순위 \\n')\n",
        "for idx in range(len(cartoon_list)):\n",
        "  li = cartoon_list[idx]\n",
        "  title = li.select_one('a.title').get_text()\n",
        "  print(str(idx+1) + '.' + title + '\\n')\n",
        "\n"
      ],
      "execution_count": null,
      "outputs": [
        {
          "output_type": "stream",
          "name": "stdout",
          "text": [
            "월요 웹툰 순위 \n",
            "\n",
            "1.참교육\n",
            "\n",
            "2.신의 탑\n",
            "\n",
            "3.뷰티풀 군바리\n",
            "\n",
            "4.소녀의 세계\n",
            "\n",
            "5.팔이피플\n",
            "\n",
            "6.백수세끼\n",
            "\n",
            "7.장씨세가 호위무사\n",
            "\n",
            "8.파이게임\n",
            "\n",
            "9.앵무살수\n",
            "\n",
            "10.만렙돌파\n",
            "\n",
            "11.말박왕\n",
            "\n",
            "12.삼매경\n",
            "\n",
            "13.요리GO\n",
            "\n",
            "14.홍천기\n",
            "\n",
            "15.잔불의 기사\n",
            "\n",
            "16.더블클릭\n",
            "\n",
            "17.유일무이 로맨스\n",
            "\n",
            "18.히어로메이커\n",
            "\n",
            "19.똑 닮은 딸\n",
            "\n",
            "20.결혼생활 그림일기\n",
            "\n",
            "21.오늘의 순정망화\n",
            "\n",
            "22.물어보는 사이\n",
            "\n",
            "23.바퀴\n",
            "\n",
            "24.꼬리잡기\n",
            "\n",
            "25.아는 여자애\n",
            "\n",
            "26.평범한 8반\n",
            "\n",
            "27.오빠집이 비어서\n",
            "\n",
            "28.꿈의 기업\n",
            "\n",
            "29.이제야 연애\n",
            "\n",
            "30.장난감\n",
            "\n",
            "31.수영만화일기\n",
            "\n",
            "32.황제와의 하룻밤\n",
            "\n",
            "33.아, 쫌 참으세요 영주님!\n",
            "\n",
            "34.순정말고 순종\n",
            "\n",
            "35.영앤리치가 아니야!\n",
            "\n",
            "36.최후의 금빛아이\n",
            "\n",
            "37.와이키키 뱀파이어\n",
            "\n",
            "38.하루의 하루\n",
            "\n",
            "39.야생천사 보호구역\n",
            "\n",
            "40.모스크바의 여명\n",
            "\n",
            "41.착한건 돈이된다\n",
            "\n",
            "42.사랑의 헌옷수거함\n",
            "\n",
            "43.선배, 그 립스틱 바르지 마요\n",
            "\n",
            "44.또다시, 계약 부부\n",
            "\n",
            "45.왕따협상\n",
            "\n",
            "46.원하는 건 너 하나\n",
            "\n",
            "47.이중첩자\n",
            "\n",
            "48.라서드\n",
            "\n",
            "49.백호랑\n",
            "\n",
            "50.마지막 지수\n",
            "\n",
            "51.칼가는 소녀\n",
            "\n",
            "52.드로잉 레시피\n",
            "\n",
            "53.바로 보지 않는\n",
            "\n",
            "54.살아간다\n",
            "\n",
            "55.이탄국의 자청비\n",
            "\n",
            "56.그림자 신부\n",
            "\n",
            "57.모락모락 왕세자님\n",
            "\n",
            "58.사막에 핀 달\n",
            "\n",
            "59.트리거\n",
            "\n",
            "60.개밥 먹는 남자\n",
            "\n",
            "61.중독연구소\n",
            "\n",
            "62.보살님이 캐리해!\n",
            "\n",
            "63.오로지 오로라\n",
            "\n",
            "64.기사님을 지켜줘\n",
            "\n",
            "65.헬로맨스\n",
            "\n"
          ]
        }
      ]
    }
  ]
}